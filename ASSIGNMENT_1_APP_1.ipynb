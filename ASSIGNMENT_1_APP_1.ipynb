{
 "cells": [
  {
   "cell_type": "code",
   "execution_count": 8,
   "metadata": {},
   "outputs": [
    {
     "name": "stdout",
     "output_type": "stream",
     "text": [
      "Enter a number:\n",
      "Value before calling the function is:  5\n",
      "Value of variable inside the function is: 10\n",
      "Value of variable outside the function but after calling it is:  5\n"
     ]
    }
   ],
   "source": [
    "#defining a function\n",
    "def change(num):\n",
    "    num=10;\n",
    "    print(\"Value of variable inside the function is:\",num)\n",
    "    return\n",
    "\n",
    "#call the function\n",
    "print(\"Enter a number:\")\n",
    "num=input() #a integer variable is imutable\n",
    "print(\"Value before calling the function is: \",num)\n",
    "change(num)\n",
    "print(\"Value of variable outside the function but after calling it is: \",num)"
   ]
  },
  {
   "cell_type": "code",
   "execution_count": null,
   "metadata": {},
   "outputs": [],
   "source": []
  }
 ],
 "metadata": {
  "kernelspec": {
   "display_name": "Python 3",
   "language": "python",
   "name": "python3"
  },
  "language_info": {
   "codemirror_mode": {
    "name": "ipython",
    "version": 3
   },
   "file_extension": ".py",
   "mimetype": "text/x-python",
   "name": "python",
   "nbconvert_exporter": "python",
   "pygments_lexer": "ipython3",
   "version": "3.6.5"
  }
 },
 "nbformat": 4,
 "nbformat_minor": 2
}
