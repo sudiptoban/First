{
 "cells": [
  {
   "cell_type": "code",
   "execution_count": 8,
   "metadata": {},
   "outputs": [
    {
     "name": "stdout",
     "output_type": "stream",
     "text": [
      "calculating twice of the numbers\n",
      "Twice of the numbers are: 4\n",
      "Twice of the numbers are: 6\n",
      "Twice of the numbers are: 16\n",
      "Twice of the numbers are: 18\n",
      "calculate thrice of numbers:\n",
      "Twice of the numbers are: 6\n",
      "Twice of the numbers are: 9\n",
      "Twice of the numbers are: 24\n",
      "Twice of the numbers are: 27\n",
      "Time taken: 4.014277219772339\n"
     ]
    }
   ],
   "source": [
    "#without multiple threading\n",
    "import time\n",
    "\n",
    "def mulbytwo(numbers):\n",
    "    print(\"calculating twice of the numbers\");\n",
    "    for n in numbers:\n",
    "        time.sleep(0.5)\n",
    "        print(\"Twice of the numbers are:\",2*n)\n",
    "    return\n",
    "def mulbythree(numbers):\n",
    "    print(\"calculate thrice of numbers:\")\n",
    "    for n in numbers:\n",
    "        time.sleep(0.5)\n",
    "        print(\"Twice of the numbers are:\",3*n)\n",
    "    return\n",
    "\n",
    "arr=[2,3,8,9]\n",
    "t = time.time()\n",
    "mulbytwo(arr)\n",
    "mulbythree(arr)\n",
    "print(\"Time taken:\",time.time()-t)"
   ]
  },
  {
   "cell_type": "code",
   "execution_count": 10,
   "metadata": {},
   "outputs": [
    {
     "name": "stdout",
     "output_type": "stream",
     "text": [
      "calculating twice of the numbers\n",
      "calculate thrice of numbers:\n",
      "Twice of the numbers are:Twice of the numbers are: 6\n",
      " 4\n",
      "Twice of the numbers are:Twice of the numbers are: 6\n",
      " 9\n",
      "Twice of the numbers are:Twice of the numbers are: 16\n",
      " 24\n",
      "Twice of the numbers are:Twice of the numbers are: 18\n",
      " 27\n",
      "Time taken: 2.015787124633789\n"
     ]
    }
   ],
   "source": [
    "#using multi-threading\n",
    "import time\n",
    "import threading\n",
    "\n",
    "def mulbytwo(numbers):\n",
    "    print(\"calculating twice of the numbers\");\n",
    "    for n in numbers:\n",
    "        time.sleep(0.5)\n",
    "        print(\"Twice of the numbers are:\",2*n)\n",
    "    return\n",
    "def mulbythree(numbers):\n",
    "    print(\"calculate thrice of numbers:\")\n",
    "    for n in numbers:\n",
    "        time.sleep(0.5)\n",
    "        print(\"Twice of the numbers are:\",3*n)\n",
    "    return\n",
    "\n",
    "arr=[2,3,8,9]\n",
    "t = time.time()\n",
    "t1= threading.Thread(target=mulbytwo, args=(arr,))\n",
    "t2= threading.Thread(target=mulbythree, args=(arr,))\n",
    "\n",
    "t1.start()\n",
    "t2.start()\n",
    "\n",
    "t1.join()\n",
    "t2.join()\n",
    "\n",
    "print(\"Time taken:\",time.time()-t)"
   ]
  },
  {
   "cell_type": "code",
   "execution_count": 11,
   "metadata": {},
   "outputs": [
    {
     "name": "stdout",
     "output_type": "stream",
     "text": [
      "square 4\n",
      "square 9\n",
      "square 64\n",
      "cube 8\n",
      "cube 27\n",
      "cube 512\n"
     ]
    }
   ],
   "source": [
    "#multi-processing\n",
    "import time\n",
    "import multiprocessing\n",
    "\n",
    "def calc_square(numbers):\n",
    "    for n in numbers:\n",
    "        print('square ' + str(n*n))\n",
    "\n",
    "def calc_cube(numbers):\n",
    "    for n in numbers:\n",
    "        print('cube ' + str(n*n*n))\n",
    "\n",
    "if __name__ == \"__main__\":\n",
    "    arr = [2,3,8]\n",
    "    p1 = multiprocessing.Process(target=calc_square, args=(arr,))\n",
    "    p2 = multiprocessing.Process(target=calc_cube, args=(arr,))\n",
    "\n",
    "    p1.start()\n",
    "    p2.start()\n",
    "\n",
    "    p1.join()\n",
    "    p2.join()\n"
   ]
  },
  {
   "cell_type": "code",
   "execution_count": 13,
   "metadata": {},
   "outputs": [
    {
     "name": "stdout",
     "output_type": "stream",
     "text": [
      "Doing something fancy in Process-3 for Fancy Dan!\n"
     ]
    }
   ],
   "source": [
    "#queue code\n",
    "import multiprocessing\n",
    "\n",
    "class MyFancyClass(object):\n",
    "    \n",
    "    def __init__(self, name):\n",
    "        self.name = name\n",
    "    \n",
    "    def do_something(self):\n",
    "        proc_name = multiprocessing.current_process().name\n",
    "        print('Doing something fancy in %s for %s!' % (proc_name, self.name))\n",
    "\n",
    "\n",
    "def worker(q):\n",
    "    obj = q.get()\n",
    "    obj.do_something()\n",
    "\n",
    "\n",
    "if __name__ == '__main__':\n",
    "    queue = multiprocessing.Queue()\n",
    "\n",
    "    p = multiprocessing.Process(target=worker, args=(queue,))\n",
    "    p.start()\n",
    "    \n",
    "    queue.put(MyFancyClass('Fancy Dan'))\n",
    "    \n",
    "    # Wait for the worker to finish\n",
    "    queue.close()\n",
    "    queue.join_thread()\n",
    "    p.join()"
   ]
  },
  {
   "cell_type": "code",
   "execution_count": null,
   "metadata": {},
   "outputs": [],
   "source": []
  }
 ],
 "metadata": {
  "kernelspec": {
   "display_name": "Python 3",
   "language": "python",
   "name": "python3"
  },
  "language_info": {
   "codemirror_mode": {
    "name": "ipython",
    "version": 3
   },
   "file_extension": ".py",
   "mimetype": "text/x-python",
   "name": "python",
   "nbconvert_exporter": "python",
   "pygments_lexer": "ipython3",
   "version": "3.6.5"
  }
 },
 "nbformat": 4,
 "nbformat_minor": 2
}
